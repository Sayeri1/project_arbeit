{
  "cells": [
    {
      "cell_type": "code",
      "execution_count": null,
      "id": "7a06e71b",
      "metadata": {
        "id": "7a06e71b"
      },
      "outputs": [],
      "source": [
        "import pandas as pd\n",
        "import os\n",
        "import warnings\n",
        "warnings.simplefilter(action='ignore', category=FutureWarning)\n",
        "warnings.filterwarnings('ignore')\n",
        "\n",
        "import numpy as np\n",
        "import matplotlib.pyplot as plt\n",
        "from collections import Counter\n",
        "from imblearn.over_sampling import SMOTE\n",
        "from sklearn.model_selection import train_test_split\n",
        "from sklearn.ensemble import RandomForestClassifier\n",
        "from sklearn import metrics"
      ]
    },
    {
      "cell_type": "code",
      "execution_count": null,
      "id": "a0a2a413",
      "metadata": {
        "id": "a0a2a413",
        "outputId": "1dbf6ee5-c4a9-4b29-dba2-b53b75137951",
        "colab": {
          "base_uri": "https://localhost:8080/",
          "height": 332
        }
      },
      "outputs": [
        {
          "output_type": "error",
          "ename": "FileNotFoundError",
          "evalue": "[Errno 2] No such file or directory: 'C:/Users/91912/Downloads/OCD_Files'",
          "traceback": [
            "\u001b[0;31m---------------------------------------------------------------------------\u001b[0m",
            "\u001b[0;31mFileNotFoundError\u001b[0m                         Traceback (most recent call last)",
            "\u001b[0;32m<ipython-input-2-863a5eb14ea5>\u001b[0m in \u001b[0;36m<cell line: 20>\u001b[0;34m()\u001b[0m\n\u001b[1;32m     18\u001b[0m \u001b[0;34m\u001b[0m\u001b[0m\n\u001b[1;32m     19\u001b[0m \u001b[0mfolder_path\u001b[0m \u001b[0;34m=\u001b[0m \u001b[0;34m'C:/Users/91912/Downloads/OCD_Files'\u001b[0m\u001b[0;34m\u001b[0m\u001b[0;34m\u001b[0m\u001b[0m\n\u001b[0;32m---> 20\u001b[0;31m \u001b[0mcount_rows\u001b[0m \u001b[0;34m=\u001b[0m \u001b[0mcount_rows_in_csv_files\u001b[0m\u001b[0;34m(\u001b[0m\u001b[0mfolder_path\u001b[0m\u001b[0;34m)\u001b[0m\u001b[0;34m\u001b[0m\u001b[0;34m\u001b[0m\u001b[0m\n\u001b[0m\u001b[1;32m     21\u001b[0m \u001b[0;34m\u001b[0m\u001b[0m\n\u001b[1;32m     22\u001b[0m \u001b[0;34m\u001b[0m\u001b[0m\n",
            "\u001b[0;32m<ipython-input-2-863a5eb14ea5>\u001b[0m in \u001b[0;36mcount_rows_in_csv_files\u001b[0;34m(folder_path)\u001b[0m\n\u001b[1;32m      2\u001b[0m     \u001b[0mfile_counts\u001b[0m \u001b[0;34m=\u001b[0m \u001b[0;34m{\u001b[0m\u001b[0;34m}\u001b[0m\u001b[0;34m\u001b[0m\u001b[0;34m\u001b[0m\u001b[0m\n\u001b[1;32m      3\u001b[0m     \u001b[0mtotal_rows\u001b[0m \u001b[0;34m=\u001b[0m \u001b[0;36m0\u001b[0m\u001b[0;34m\u001b[0m\u001b[0;34m\u001b[0m\u001b[0m\n\u001b[0;32m----> 4\u001b[0;31m     \u001b[0mfiles\u001b[0m \u001b[0;34m=\u001b[0m \u001b[0mos\u001b[0m\u001b[0;34m.\u001b[0m\u001b[0mlistdir\u001b[0m\u001b[0;34m(\u001b[0m\u001b[0mfolder_path\u001b[0m\u001b[0;34m)\u001b[0m\u001b[0;34m\u001b[0m\u001b[0;34m\u001b[0m\u001b[0m\n\u001b[0m\u001b[1;32m      5\u001b[0m     \u001b[0;32mfor\u001b[0m \u001b[0mfile_name\u001b[0m \u001b[0;32min\u001b[0m \u001b[0mfiles\u001b[0m\u001b[0;34m:\u001b[0m\u001b[0;34m\u001b[0m\u001b[0;34m\u001b[0m\u001b[0m\n\u001b[1;32m      6\u001b[0m         \u001b[0;32mif\u001b[0m \u001b[0mfile_name\u001b[0m\u001b[0;34m.\u001b[0m\u001b[0mendswith\u001b[0m\u001b[0;34m(\u001b[0m\u001b[0;34m'.csv'\u001b[0m\u001b[0;34m)\u001b[0m\u001b[0;34m:\u001b[0m\u001b[0;34m\u001b[0m\u001b[0;34m\u001b[0m\u001b[0m\n",
            "\u001b[0;31mFileNotFoundError\u001b[0m: [Errno 2] No such file or directory: 'C:/Users/91912/Downloads/OCD_Files'"
          ]
        }
      ],
      "source": [
        "def count_rows_in_csv_files(folder_path):\n",
        "    file_counts = {}\n",
        "    total_rows = 0\n",
        "    files = os.listdir(folder_path)\n",
        "    for file_name in files:\n",
        "        if file_name.endswith('.csv'):\n",
        "            file_path = os.path.join(folder_path, file_name)\n",
        "            try:\n",
        "                df = pd.read_csv(file_path, header=None)\n",
        "                row_count = len(df) - 1\n",
        "                file_counts[file_name] = row_count\n",
        "                print(f\"{file_name}: {row_count} rows (excluding header)\")\n",
        "                total_rows += row_count\n",
        "            except Exception as e:\n",
        "                print(f\"Error reading {file_name}: {str(e)}\")\n",
        "    print(f\"Total rows across all files: {total_rows}\")\n",
        "    return file_counts\n",
        "\n",
        "folder_path = 'C:/Users/91912/Downloads/OCD_Files'\n",
        "count_rows = count_rows_in_csv_files(folder_path)\n",
        "\n",
        "\n"
      ]
    },
    {
      "cell_type": "code",
      "execution_count": null,
      "id": "7780cb1a",
      "metadata": {
        "id": "7780cb1a"
      },
      "outputs": [],
      "source": [
        "def combine_csv_files(folder_path):\n",
        "    combined_data = pd.DataFrame()\n",
        "    file_list = os.listdir(folder_path)\n",
        "    data_frames = []\n",
        "\n",
        "    for i, file_name in enumerate(file_list):\n",
        "        if file_name.endswith('.csv'):\n",
        "            file_path = os.path.join(folder_path, file_name)\n",
        "            if i == 0:\n",
        "                data = pd.read_csv(file_path, header=None)\n",
        "            else:\n",
        "                data = pd.read_csv(file_path, header=None,skiprows = 1)\n",
        "            data_frames.append(data)\n",
        "\n",
        "    combined_data = pd.concat(data_frames, ignore_index=True)\n",
        "    return combined_data"
      ]
    },
    {
      "cell_type": "code",
      "execution_count": null,
      "id": "9bbdcc84",
      "metadata": {
        "id": "9bbdcc84"
      },
      "outputs": [],
      "source": [
        "#combined_df.to_hdf(f'{folder_path}/combined_df.h5', key='df', mode='w')\n",
        "combined_df.to_csv(f'{folder_path}/combined_df.csv', index=False)"
      ]
    },
    {
      "cell_type": "code",
      "execution_count": null,
      "id": "b89b44b1",
      "metadata": {
        "id": "b89b44b1"
      },
      "outputs": [],
      "source": [
        "combined_df.head()"
      ]
    },
    {
      "cell_type": "code",
      "execution_count": null,
      "id": "52af97fb",
      "metadata": {
        "id": "52af97fb"
      },
      "outputs": [],
      "source": [
        "print(len(combined_df))"
      ]
    },
    {
      "cell_type": "code",
      "execution_count": null,
      "id": "bdd04dd2",
      "metadata": {
        "id": "bdd04dd2"
      },
      "outputs": [],
      "source": [
        "dataframe = combined_df"
      ]
    },
    {
      "cell_type": "code",
      "execution_count": null,
      "id": "ff535b8f",
      "metadata": {
        "id": "ff535b8f"
      },
      "outputs": [],
      "source": [
        "print(len(dataframe))"
      ]
    },
    {
      "cell_type": "code",
      "execution_count": null,
      "id": "5a4688a6",
      "metadata": {
        "id": "5a4688a6"
      },
      "outputs": [],
      "source": [
        "dataframe.columns = dataframe.iloc[0]\n",
        "dataframe = dataframe[1:]\n",
        "dataframe.reset_index(drop=True, inplace=True)"
      ]
    },
    {
      "cell_type": "code",
      "execution_count": null,
      "id": "edd3ebb0",
      "metadata": {
        "id": "edd3ebb0"
      },
      "outputs": [],
      "source": [
        "dataframe.head()"
      ]
    },
    {
      "cell_type": "code",
      "execution_count": null,
      "id": "26443308",
      "metadata": {
        "id": "26443308"
      },
      "outputs": [],
      "source": [
        "ignore_unique = pd.to_numeric(dataframe['ignore'], errors='coerce').dropna().astype(int).value_counts().to_dict()\n",
        "print(ignore_unique)"
      ]
    },
    {
      "cell_type": "code",
      "execution_count": null,
      "id": "de41b3b5",
      "metadata": {
        "id": "de41b3b5"
      },
      "outputs": [],
      "source": [
        "dataframe_numeric = dataframe.apply(pd.to_numeric, errors='coerce')\n",
        "new_dataframe = dataframe_numeric[dataframe_numeric['ignore'].eq(0)]\n",
        "print(len(new_dataframe))"
      ]
    },
    {
      "cell_type": "code",
      "execution_count": null,
      "id": "2845eb8f",
      "metadata": {
        "id": "2845eb8f"
      },
      "outputs": [],
      "source": [
        "df = new_dataframe[['acc x','acc y','acc z','gyro x','gyro y','gyro z', 'relabeled']]\n",
        "y = df['relabeled']\n"
      ]
    },
    {
      "cell_type": "code",
      "execution_count": null,
      "id": "85b4d3c4",
      "metadata": {
        "id": "85b4d3c4"
      },
      "outputs": [],
      "source": [
        "df.head()"
      ]
    },
    {
      "cell_type": "code",
      "execution_count": null,
      "id": "3449c614",
      "metadata": {
        "id": "3449c614"
      },
      "outputs": [],
      "source": [
        "len(df)"
      ]
    },
    {
      "cell_type": "code",
      "execution_count": null,
      "id": "ff228fdb",
      "metadata": {
        "id": "ff228fdb"
      },
      "outputs": [],
      "source": [
        "unique_values = df['relabeled'].unique()\n",
        "print(unique_values)"
      ]
    },
    {
      "cell_type": "code",
      "execution_count": null,
      "id": "ceccd497",
      "metadata": {
        "id": "ceccd497"
      },
      "outputs": [],
      "source": [
        "df_hw = df[df['relabeled'] != 0]\n",
        "unique_values = df_hw['relabeled'].unique()\n",
        "print(unique_values)\n",
        "print(len(df_hw))"
      ]
    },
    {
      "cell_type": "code",
      "execution_count": null,
      "id": "934e202a",
      "metadata": {
        "id": "934e202a"
      },
      "outputs": [],
      "source": [
        "df_hw.head()"
      ]
    },
    {
      "cell_type": "code",
      "execution_count": null,
      "id": "ffbd14f4",
      "metadata": {
        "id": "ffbd14f4"
      },
      "outputs": [],
      "source": [
        "df_hw.to_csv(f'{folder_path}/df_hw.csv', index=False)"
      ]
    },
    {
      "cell_type": "code",
      "execution_count": null,
      "id": "9e8671f6",
      "metadata": {
        "id": "9e8671f6"
      },
      "outputs": [],
      "source": [
        "y = df_hw['relabeled']\n",
        "df_hw.drop(['relabeled'], axis=1, inplace=True)"
      ]
    },
    {
      "cell_type": "code",
      "execution_count": null,
      "id": "068a1313",
      "metadata": {
        "id": "068a1313"
      },
      "outputs": [],
      "source": [
        "df_hw.head()"
      ]
    },
    {
      "cell_type": "code",
      "execution_count": null,
      "id": "719c8305",
      "metadata": {
        "id": "719c8305"
      },
      "outputs": [],
      "source": [
        "df_hw.shape"
      ]
    },
    {
      "cell_type": "code",
      "execution_count": null,
      "id": "073b6122",
      "metadata": {
        "id": "073b6122"
      },
      "outputs": [],
      "source": [
        "X = []\n",
        "labels = []\n",
        "window_size = 150\n",
        "step_size = 150"
      ]
    },
    {
      "cell_type": "code",
      "execution_count": null,
      "id": "94989af4",
      "metadata": {
        "id": "94989af4"
      },
      "outputs": [],
      "source": [
        "y"
      ]
    },
    {
      "cell_type": "code",
      "execution_count": null,
      "id": "334ad4a9",
      "metadata": {
        "id": "334ad4a9"
      },
      "outputs": [],
      "source": [
        "for i in range(0, df_hw.shape[0]-window_size+1, step_size):\n",
        "  frame = df_hw.iloc[i:i+window_size]\n",
        "  label = Counter(y.iloc[i:i+window_size]).most_common(1)[0][0]\n",
        "  X.append(frame)\n",
        "  labels.append(label)"
      ]
    },
    {
      "cell_type": "code",
      "execution_count": null,
      "id": "24e5f5bc",
      "metadata": {
        "id": "24e5f5bc"
      },
      "outputs": [],
      "source": [
        "X_arr = np.array(X)\n",
        "X_arr.shape"
      ]
    },
    {
      "cell_type": "code",
      "execution_count": null,
      "id": "0f7b0aee",
      "metadata": {
        "id": "0f7b0aee"
      },
      "outputs": [],
      "source": [
        "label_arr = np.array(labels)\n",
        "label_arr.shape"
      ]
    },
    {
      "cell_type": "code",
      "execution_count": null,
      "id": "b8e3ad90",
      "metadata": {
        "id": "b8e3ad90"
      },
      "outputs": [],
      "source": [
        "np.unique(label_arr)"
      ]
    },
    {
      "cell_type": "code",
      "execution_count": null,
      "id": "05d3d266",
      "metadata": {
        "id": "05d3d266"
      },
      "outputs": [],
      "source": [
        "X_flattened = X_arr.reshape(X_arr.shape[0], X_arr.shape[1]*X_arr.shape[2])\n",
        "X_flattened.shape"
      ]
    },
    {
      "cell_type": "code",
      "execution_count": null,
      "id": "9cf70e30",
      "metadata": {
        "id": "9cf70e30"
      },
      "outputs": [],
      "source": [
        "X_train, X_test, y_train, y_test = train_test_split(X_flattened, label_arr, test_size=0.25, random_state=42, shuffle=True)"
      ]
    },
    {
      "cell_type": "code",
      "execution_count": null,
      "id": "15b57a46",
      "metadata": {
        "id": "15b57a46"
      },
      "outputs": [],
      "source": [
        "#X_train, y_train = SMOTE(random_state=42).fit_resample(X_train, y_train)"
      ]
    },
    {
      "cell_type": "code",
      "execution_count": null,
      "id": "aceb16cc",
      "metadata": {
        "id": "aceb16cc"
      },
      "outputs": [],
      "source": [
        "print(np.unique(y_train))\n",
        "print(np.unique(y_test))"
      ]
    },
    {
      "cell_type": "code",
      "execution_count": null,
      "id": "a58eac00",
      "metadata": {
        "id": "a58eac00"
      },
      "outputs": [],
      "source": [
        "y_train.shape\n"
      ]
    },
    {
      "cell_type": "code",
      "execution_count": null,
      "id": "c8167584",
      "metadata": {
        "id": "c8167584"
      },
      "outputs": [],
      "source": [
        "classifier = RandomForestClassifier(n_estimators=100)\n",
        "classifier.fit(X_train, y_train)\n",
        "y_pred_test = classifier.predict(X_test)"
      ]
    },
    {
      "cell_type": "code",
      "execution_count": null,
      "id": "203e53fb",
      "metadata": {
        "id": "203e53fb"
      },
      "outputs": [],
      "source": [
        "print(\"F1: \", metrics.f1_score(y_test, y_pred_test, average='weighted'))\n",
        "print(\"Precision: \", metrics.precision_score(y_test, y_pred_test, average='weighted'))\n",
        "print(\"Recall: \", metrics.recall_score(y_test, y_pred_test, average='weighted'))\n",
        "print()\n",
        "print('Confusion Matrix')\n",
        "print(metrics.confusion_matrix(y_test, y_pred_test))"
      ]
    },
    {
      "cell_type": "code",
      "execution_count": null,
      "id": "daaf6c6d",
      "metadata": {
        "id": "daaf6c6d"
      },
      "outputs": [],
      "source": []
    },
    {
      "cell_type": "code",
      "execution_count": null,
      "id": "a3b395da",
      "metadata": {
        "id": "a3b395da"
      },
      "outputs": [],
      "source": []
    }
  ],
  "metadata": {
    "kernelspec": {
      "display_name": "Python 3 (ipykernel)",
      "language": "python",
      "name": "python3"
    },
    "language_info": {
      "codemirror_mode": {
        "name": "ipython",
        "version": 3
      },
      "file_extension": ".py",
      "mimetype": "text/x-python",
      "name": "python",
      "nbconvert_exporter": "python",
      "pygments_lexer": "ipython3",
      "version": "3.11.3"
    },
    "colab": {
      "provenance": []
    }
  },
  "nbformat": 4,
  "nbformat_minor": 5
}